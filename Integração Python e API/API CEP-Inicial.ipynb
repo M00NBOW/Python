{
 "cells": [
  {
   "cell_type": "markdown",
   "id": "7e57525e",
   "metadata": {},
   "source": [
    "### Via CEP\n",
    "\n",
    "https://viacep.com.br/"
   ]
  },
  {
   "cell_type": "markdown",
   "id": "84f1d631",
   "metadata": {},
   "source": [
    "#### Consulta de informações de um CEP"
   ]
  },
  {
   "cell_type": "code",
   "execution_count": 17,
   "id": "fe813e51",
   "metadata": {},
   "outputs": [
    {
     "name": "stdout",
     "output_type": "stream",
     "text": [
      "{'cep': '06397-170', 'logradouro': 'Rua Araguaia', 'complemento': '', 'bairro': 'Vila Lourdes', 'localidade': 'Carapicuíba', 'uf': 'SP', 'ibge': '3510609', 'gia': '2550', 'ddd': '11', 'siafi': '6313'}\n"
     ]
    }
   ],
   "source": [
    "import requests\n",
    "import json\n",
    "\n",
    "\n",
    "consulta = requests.get(r'https://viacep.com.br/ws/06397170/json/')\n",
    "consulta_dic = consulta.json()\n",
    "print(consulta_dic)"
   ]
  },
  {
   "cell_type": "markdown",
   "id": "0abd6940",
   "metadata": {},
   "source": [
    "#### Busca de CEP a partir de endereço"
   ]
  },
  {
   "cell_type": "code",
   "execution_count": 58,
   "id": "270edfa9",
   "metadata": {},
   "outputs": [
    {
     "name": "stdout",
     "output_type": "stream",
     "text": [
      "3\n",
      "[{'cep': '11677-563', 'logradouro': 'Rua Araguaia', 'complemento': '', 'bairro': 'Estância Balneária Hawai', 'localidade': 'Caraguatatuba', 'uf': 'SP', 'ibge': '3510500', 'gia': '2549', 'ddd': '12', 'siafi': '6311'}, {'cep': '06397-170', 'logradouro': 'Rua Araguaia', 'complemento': '', 'bairro': 'Vila Lourdes', 'localidade': 'Carapicuíba', 'uf': 'SP', 'ibge': '3510609', 'gia': '2550', 'ddd': '11', 'siafi': '6313'}, {'cep': '12327-640', 'logradouro': 'Rua Araguaia', 'complemento': '', 'bairro': 'Jardim Paraíba', 'localidade': 'Jacareí', 'uf': 'SP', 'ibge': '3524402', 'gia': '3920', 'ddd': '12', 'siafi': '6589'}]\n"
     ]
    }
   ],
   "source": [
    "uf = 'sp'\n",
    "cidade = 'car'\n",
    "endereco = 'rua araguaia'\n",
    "consulta = requests.get(fr'https://viacep.com.br/ws/{uf}/{cidade}/{endereco}/json/')\n",
    "print(len(consulta_dic))\n",
    "consulta_dic = consulta.json()\n",
    "print(consulta_dic)"
   ]
  },
  {
   "cell_type": "code",
   "execution_count": 59,
   "id": "63bdc336",
   "metadata": {},
   "outputs": [
    {
     "data": {
      "text/html": [
       "<div>\n",
       "<style scoped>\n",
       "    .dataframe tbody tr th:only-of-type {\n",
       "        vertical-align: middle;\n",
       "    }\n",
       "\n",
       "    .dataframe tbody tr th {\n",
       "        vertical-align: top;\n",
       "    }\n",
       "\n",
       "    .dataframe thead th {\n",
       "        text-align: right;\n",
       "    }\n",
       "</style>\n",
       "<table border=\"1\" class=\"dataframe\">\n",
       "  <thead>\n",
       "    <tr style=\"text-align: right;\">\n",
       "      <th></th>\n",
       "      <th>cep</th>\n",
       "      <th>logradouro</th>\n",
       "      <th>complemento</th>\n",
       "      <th>bairro</th>\n",
       "      <th>localidade</th>\n",
       "      <th>uf</th>\n",
       "      <th>ibge</th>\n",
       "      <th>gia</th>\n",
       "      <th>ddd</th>\n",
       "      <th>siafi</th>\n",
       "    </tr>\n",
       "  </thead>\n",
       "  <tbody>\n",
       "    <tr>\n",
       "      <th>0</th>\n",
       "      <td>11677-563</td>\n",
       "      <td>Rua Araguaia</td>\n",
       "      <td></td>\n",
       "      <td>Estância Balneária Hawai</td>\n",
       "      <td>Caraguatatuba</td>\n",
       "      <td>SP</td>\n",
       "      <td>3510500</td>\n",
       "      <td>2549</td>\n",
       "      <td>12</td>\n",
       "      <td>6311</td>\n",
       "    </tr>\n",
       "    <tr>\n",
       "      <th>1</th>\n",
       "      <td>06397-170</td>\n",
       "      <td>Rua Araguaia</td>\n",
       "      <td></td>\n",
       "      <td>Vila Lourdes</td>\n",
       "      <td>Carapicuíba</td>\n",
       "      <td>SP</td>\n",
       "      <td>3510609</td>\n",
       "      <td>2550</td>\n",
       "      <td>11</td>\n",
       "      <td>6313</td>\n",
       "    </tr>\n",
       "    <tr>\n",
       "      <th>2</th>\n",
       "      <td>12327-640</td>\n",
       "      <td>Rua Araguaia</td>\n",
       "      <td></td>\n",
       "      <td>Jardim Paraíba</td>\n",
       "      <td>Jacareí</td>\n",
       "      <td>SP</td>\n",
       "      <td>3524402</td>\n",
       "      <td>3920</td>\n",
       "      <td>12</td>\n",
       "      <td>6589</td>\n",
       "    </tr>\n",
       "  </tbody>\n",
       "</table>\n",
       "</div>"
      ],
      "text/plain": [
       "         cep    logradouro complemento                    bairro  \\\n",
       "0  11677-563  Rua Araguaia              Estância Balneária Hawai   \n",
       "1  06397-170  Rua Araguaia                          Vila Lourdes   \n",
       "2  12327-640  Rua Araguaia                        Jardim Paraíba   \n",
       "\n",
       "      localidade  uf     ibge   gia ddd siafi  \n",
       "0  Caraguatatuba  SP  3510500  2549  12  6311  \n",
       "1    Carapicuíba  SP  3510609  2550  11  6313  \n",
       "2        Jacareí  SP  3524402  3920  12  6589  "
      ]
     },
     "metadata": {},
     "output_type": "display_data"
    }
   ],
   "source": [
    "import pandas as pd\n",
    "\n",
    "tabela = pd.DataFrame(consulta_dic)\n",
    "\n",
    "display(tabela)"
   ]
  }
 ],
 "metadata": {
  "kernelspec": {
   "display_name": "Python 3 (ipykernel)",
   "language": "python",
   "name": "python3"
  },
  "language_info": {
   "codemirror_mode": {
    "name": "ipython",
    "version": 3
   },
   "file_extension": ".py",
   "mimetype": "text/x-python",
   "name": "python",
   "nbconvert_exporter": "python",
   "pygments_lexer": "ipython3",
   "version": "3.9.12"
  }
 },
 "nbformat": 4,
 "nbformat_minor": 5
}
